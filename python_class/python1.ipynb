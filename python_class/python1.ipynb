{
 "cells": [
  {
   "cell_type": "markdown",
   "metadata": {},
   "source": [
    "### 变量\n",
    "命名规则：字母数字下划线，数字不能在首位"
   ]
  },
  {
   "cell_type": "code",
   "execution_count": 3,
   "metadata": {},
   "outputs": [],
   "source": [
    "num = 1.2   \n",
    "# 定义一个变量num\n",
    "# 给num 赋值1"
   ]
  },
  {
   "cell_type": "markdown",
   "metadata": {},
   "source": [
    "整数 ： int\n",
    "\n",
    "小数 ： float\n",
    "\n",
    "字符串 ： string"
   ]
  },
  {
   "cell_type": "code",
   "execution_count": 4,
   "metadata": {},
   "outputs": [
    {
     "data": {
      "text/plain": [
       "float"
      ]
     },
     "execution_count": 4,
     "metadata": {},
     "output_type": "execute_result"
    }
   ],
   "source": [
    "type(num)"
   ]
  },
  {
   "cell_type": "code",
   "execution_count": 8,
   "metadata": {},
   "outputs": [],
   "source": [
    "name = \"布尔玛\"\n",
    "brand = \"apple\""
   ]
  },
  {
   "cell_type": "code",
   "execution_count": null,
   "metadata": {},
   "outputs": [],
   "source": [
    "type(num)"
   ]
  },
  {
   "cell_type": "markdown",
   "metadata": {},
   "source": [
    "### print\n",
    "函数"
   ]
  },
  {
   "cell_type": "code",
   "execution_count": 7,
   "metadata": {},
   "outputs": [
    {
     "name": "stdout",
     "output_type": "stream",
     "text": [
      "布尔玛\n"
     ]
    }
   ],
   "source": [
    "print(name)"
   ]
  },
  {
   "cell_type": "code",
   "execution_count": 11,
   "metadata": {},
   "outputs": [
    {
     "name": "stdout",
     "output_type": "stream",
     "text": [
      "布尔玛喜欢apple\n"
     ]
    }
   ],
   "source": [
    "s1 = name + '喜欢' + brand\n",
    "print(s1)"
   ]
  },
  {
   "cell_type": "code",
   "execution_count": 16,
   "metadata": {},
   "outputs": [
    {
     "name": "stdout",
     "output_type": "stream",
     "text": [
      "布尔玛喜欢apple\n"
     ]
    }
   ],
   "source": [
    "# print的自由组合\n",
    "print('{0}喜欢{1}'.format(name,brand))"
   ]
  },
  {
   "cell_type": "markdown",
   "metadata": {},
   "source": [
    "### 函数 function\n",
    "defination-定义\n",
    "\n",
    "函数名， 输入，输出"
   ]
  },
  {
   "cell_type": "code",
   "execution_count": 18,
   "metadata": {},
   "outputs": [],
   "source": [
    "# 加法函数   \n",
    "def fun(x,y):\n",
    "    z = x + y \n",
    "    return z"
   ]
  },
  {
   "cell_type": "code",
   "execution_count": 19,
   "metadata": {
    "scrolled": true
   },
   "outputs": [
    {
     "data": {
      "text/plain": [
       "3"
      ]
     },
     "execution_count": 19,
     "metadata": {},
     "output_type": "execute_result"
    }
   ],
   "source": [
    "# 函数调用\n",
    "a = 1\n",
    "b = 2\n",
    "fun(a,b)"
   ]
  },
  {
   "cell_type": "code",
   "execution_count": 9,
   "metadata": {},
   "outputs": [],
   "source": [
    "# 练习: 写一个乘法函数\n",
    "# 乘 : *\n",
    "# 除 : /\n",
    "# 平方 : ** 或 ^"
   ]
  },
  {
   "cell_type": "code",
   "execution_count": null,
   "metadata": {},
   "outputs": [],
   "source": []
  },
  {
   "cell_type": "markdown",
   "metadata": {},
   "source": [
    "### 数组/列表  list\n",
    "有一串元素的集合"
   ]
  },
  {
   "cell_type": "code",
   "execution_count": 21,
   "metadata": {},
   "outputs": [
    {
     "name": "stdout",
     "output_type": "stream",
     "text": [
      "paula\n"
     ]
    }
   ],
   "source": [
    "name_list = [\"paula\",\"belen\"]\n",
    "len(name_list)\n",
    "print(name_list[0])"
   ]
  },
  {
   "cell_type": "code",
   "execution_count": 22,
   "metadata": {},
   "outputs": [
    {
     "data": {
      "text/plain": [
       "list"
      ]
     },
     "execution_count": 22,
     "metadata": {},
     "output_type": "execute_result"
    }
   ],
   "source": [
    "type(name_list)"
   ]
  },
  {
   "cell_type": "code",
   "execution_count": 28,
   "metadata": {},
   "outputs": [],
   "source": [
    "num_list = [1,2,3]"
   ]
  },
  {
   "cell_type": "code",
   "execution_count": 29,
   "metadata": {},
   "outputs": [
    {
     "data": {
      "text/plain": [
       "[1, 2, 3]"
      ]
     },
     "execution_count": 29,
     "metadata": {},
     "output_type": "execute_result"
    }
   ],
   "source": [
    "num_list"
   ]
  },
  {
   "cell_type": "code",
   "execution_count": 34,
   "metadata": {},
   "outputs": [],
   "source": [
    "# append 添加元素\n",
    "num_list.append(3)"
   ]
  },
  {
   "cell_type": "code",
   "execution_count": 36,
   "metadata": {},
   "outputs": [],
   "source": [
    "# 去重\n",
    "num_list = list(set(num_list))"
   ]
  },
  {
   "cell_type": "code",
   "execution_count": 37,
   "metadata": {},
   "outputs": [
    {
     "name": "stdout",
     "output_type": "stream",
     "text": [
      "[1, 3, 5, 7, 9, 11, 13, 15, 17, 19, 21, 23, 25, 27, 29, 31, 33, 35, 37, 39, 41, 43, 45, 47, 49, 51, 53, 55, 57, 59, 61, 63, 65, 67, 69, 71, 73, 75, 77, 79, 81, 83, 85, 87, 89, 91, 93, 95, 97, 99]\n"
     ]
    }
   ],
   "source": [
    "# 列表解析,快速创建列表\n",
    "num_list = [x for x in range(100) if x%2==1]\n",
    "print(num_list)"
   ]
  },
  {
   "cell_type": "markdown",
   "metadata": {},
   "source": [
    "### if  条件判断语句"
   ]
  },
  {
   "cell_type": "code",
   "execution_count": 31,
   "metadata": {},
   "outputs": [
    {
     "name": "stdout",
     "output_type": "stream",
     "text": [
      "no\n"
     ]
    }
   ],
   "source": [
    "name = \"paula\"\n",
    "if len(name) == 3:\n",
    "    print('3')\n",
    "else:\n",
    "    print('no')"
   ]
  },
  {
   "cell_type": "markdown",
   "metadata": {},
   "source": [
    "### 循环"
   ]
  },
  {
   "cell_type": "code",
   "execution_count": 21,
   "metadata": {},
   "outputs": [
    {
     "name": "stdout",
     "output_type": "stream",
     "text": [
      "paula\n",
      "belen\n"
     ]
    }
   ],
   "source": [
    "# 遍历数组\n",
    "for name in name_list:\n",
    "    print(name)"
   ]
  },
  {
   "cell_type": "code",
   "execution_count": 26,
   "metadata": {},
   "outputs": [
    {
     "name": "stdout",
     "output_type": "stream",
     "text": [
      "0\n",
      "1\n",
      "2\n",
      "3\n",
      "4\n",
      "5\n",
      "6\n",
      "7\n",
      "8\n",
      "9\n"
     ]
    }
   ],
   "source": [
    "for x in range(10):\n",
    "    print(x)"
   ]
  },
  {
   "cell_type": "markdown",
   "metadata": {},
   "source": [
    "### 读文件\n",
    "r : read \n",
    "\n",
    "w : write"
   ]
  },
  {
   "cell_type": "code",
   "execution_count": 33,
   "metadata": {},
   "outputs": [
    {
     "name": "stdout",
     "output_type": "stream",
     "text": [
      "paula\n",
      "belen\n",
      "yuanbo\n"
     ]
    }
   ],
   "source": [
    "with open('name.txt','r') as f:  #把文件的内容给f\n",
    "    for line in f:  \n",
    "        name = line.strip() # 去掉这一行前后的空白字符\n",
    "        print(name)    "
   ]
  },
  {
   "cell_type": "code",
   "execution_count": 36,
   "metadata": {},
   "outputs": [
    {
     "name": "stdout",
     "output_type": "stream",
     "text": [
      "yuanbo \n"
     ]
    }
   ],
   "source": [
    "with open('name.txt','r') as f:  #把文件的内容给f\n",
    "    for line in f:  \n",
    "        name = line.strip() # 去掉这一行前后的空白字符\n",
    "        if len(name) > 5:\n",
    "            print(line)    "
   ]
  },
  {
   "cell_type": "code",
   "execution_count": 46,
   "metadata": {},
   "outputs": [
    {
     "name": "stdout",
     "output_type": "stream",
     "text": [
      "['5.1', '3.5', '1.4', '0.2', 'Iris-setosa']\n",
      "['5.1', '3.5', '1.4', '0.3', 'Iris-setosa']\n",
      "['5.1', '3.8', '1.5', '0.3', 'Iris-setosa']\n",
      "['5.1', '3.7', '1.5', '0.4', 'Iris-setosa']\n",
      "['5.1', '3.3', '1.7', '0.5', 'Iris-setosa']\n",
      "['5.1', '3.4', '1.5', '0.2', 'Iris-setosa']\n",
      "['5.1', '3.8', '1.9', '0.4', 'Iris-setosa']\n",
      "['5.1', '3.8', '1.6', '0.2', 'Iris-setosa']\n"
     ]
    }
   ],
   "source": [
    "with open('iris.txt','r') as f:  #把文件的内容给f\n",
    "    for line in f:  \n",
    "        line = line.strip() # 去掉这一行前后的空白字符\n",
    "        line = line.split(',') # 将字符串分割开\n",
    "        if line[4]  == 'Iris-setosa' and line[0] == '5.1':  # 同时满足两个条件\n",
    "            print(line)    "
   ]
  },
  {
   "cell_type": "markdown",
   "metadata": {},
   "source": [
    "and 且\n",
    "\n",
    "or 或"
   ]
  },
  {
   "cell_type": "code",
   "execution_count": 47,
   "metadata": {},
   "outputs": [],
   "source": [
    "# 练习 \n",
    "# 第一列是 5.0 并且第二列是 3.5的"
   ]
  },
  {
   "cell_type": "markdown",
   "metadata": {},
   "source": [
    "### 处理 excel"
   ]
  },
  {
   "cell_type": "code",
   "execution_count": 63,
   "metadata": {},
   "outputs": [
    {
     "name": "stdout",
     "output_type": "stream",
     "text": [
      "['新加坡', '新加坡15店（Marina Bay Sands）', '\"2 Bayfront Avenue The Shoppes at Marina Bay Sands', ' #B2-01A/D', '018972\"', '700(B2)', '8', '6', '296', '合同已签订', '', '2020/8/12', '2021/11/18(预计11月底进场)', '', '新加坡15店', '', '']\n",
      "['新加坡', '新加坡16店 (Wisma Atria)', '\"#03-15 to 23', ' #03-41(pt) to 49', 'Wisma Atria', '435 Orchard Rd', ' Singapore\"', '958（3F）', '5', '5', '473', '合同已签订', '', '2020/10/29', '2020/12/30', '', '新加坡16店', '新加坡4店', '']\n",
      "['新加坡 ', ' Jurong East Jcube', '', '', '', '', '', '商务定稿', '', '', '', '', '', '', '']\n",
      "['新加坡 ', 'Woodleigh 在建中位置居中（小店）', '', '', '', '', '', '谈商务条件中', '', '', '', '', '', '', '']\n",
      "['新加坡 ', 'Bugis', '', '', '', '', '', '谈商务条件中', '', '', '', '', '', '', '']\n",
      "['新加坡 ', ' 新加坡Jurong point ', '', '', '', '', '', '商务阶段-谈判中', '', '', '', '', '', '', '']\n"
     ]
    }
   ],
   "source": [
    "with open('hdl.csv','r') as f:  #把文件的内容给f\n",
    "    for line in f:  \n",
    "        line = line.strip() # 去掉这一行前后的空白字符\n",
    "        line = line.split(',') # 将字符串分割开\n",
    "        city = line[0].strip()\n",
    "        if city == '新加坡':   \n",
    "            print(line)  "
   ]
  },
  {
   "cell_type": "markdown",
   "metadata": {},
   "source": [
    "### 字典\n",
    "dictionary\n",
    "\n",
    "key : value "
   ]
  },
  {
   "cell_type": "code",
   "execution_count": 40,
   "metadata": {},
   "outputs": [],
   "source": [
    "name_dic = {}  # 字典必须首先定义\n",
    "name_dic['paula'] = 18\n",
    "name_dic['belen'] = 20\n",
    "name_dic['zyb'] = 16"
   ]
  },
  {
   "cell_type": "code",
   "execution_count": 41,
   "metadata": {},
   "outputs": [
    {
     "data": {
      "text/plain": [
       "{'paula': 18, 'belen': 20, 'zyb': 16}"
      ]
     },
     "execution_count": 41,
     "metadata": {},
     "output_type": "execute_result"
    }
   ],
   "source": [
    "name_dic"
   ]
  },
  {
   "cell_type": "code",
   "execution_count": 42,
   "metadata": {},
   "outputs": [
    {
     "data": {
      "text/plain": [
       "16"
      ]
     },
     "execution_count": 42,
     "metadata": {},
     "output_type": "execute_result"
    }
   ],
   "source": [
    "name_dic['zyb']"
   ]
  },
  {
   "cell_type": "code",
   "execution_count": 43,
   "metadata": {},
   "outputs": [],
   "source": [
    "d = {}\n",
    "d['name'] = 'paula'\n",
    "d['age'] =25"
   ]
  },
  {
   "cell_type": "code",
   "execution_count": 44,
   "metadata": {},
   "outputs": [
    {
     "data": {
      "text/plain": [
       "{'name': 'paula', 'age': 25}"
      ]
     },
     "execution_count": 44,
     "metadata": {},
     "output_type": "execute_result"
    }
   ],
   "source": [
    "d"
   ]
  },
  {
   "cell_type": "code",
   "execution_count": 35,
   "metadata": {},
   "outputs": [
    {
     "data": {
      "text/plain": [
       "16"
      ]
     },
     "execution_count": 35,
     "metadata": {},
     "output_type": "execute_result"
    }
   ],
   "source": [
    "name_dic.get('zyb',0)"
   ]
  },
  {
   "cell_type": "code",
   "execution_count": 34,
   "metadata": {},
   "outputs": [
    {
     "data": {
      "text/plain": [
       "0"
      ]
     },
     "execution_count": 34,
     "metadata": {},
     "output_type": "execute_result"
    }
   ],
   "source": [
    "name_dic.get('kkj',0)"
   ]
  },
  {
   "cell_type": "code",
   "execution_count": 171,
   "metadata": {},
   "outputs": [],
   "source": [
    "city_dic =  {}\n",
    "\n",
    "with open('hdl.csv','r') as f:  #把文件的内容给f\n",
    "    for line in f:  \n",
    "        line = line.strip() # 去掉这一行前后的空白字符\n",
    "        city = line.split(',')[0] # 将字符串分割开\n",
    "        city_num = city_dic.get(city,0)\n",
    "        city_dic[city] =  city_num + 1"
   ]
  },
  {
   "cell_type": "code",
   "execution_count": 172,
   "metadata": {},
   "outputs": [
    {
     "data": {
      "text/plain": [
       "{'\\ufeff城市': 1,\n",
       " '': 8,\n",
       " '印尼': 3,\n",
       " 'Jl. Pantai Indah Kapuk No.6': 1,\n",
       " '新加坡': 2,\n",
       " '新加坡 ': 4,\n",
       " '柬埔寨 ': 3,\n",
       " '韩国': 1,\n",
       " '부산시 동구 중앙대로 175\"': 1,\n",
       " '香港': 2,\n",
       " '澳门': 1,\n",
       " '英国': 2,\n",
       " '西班牙': 1,\n",
       " '瑞士': 1}"
      ]
     },
     "execution_count": 172,
     "metadata": {},
     "output_type": "execute_result"
    }
   ],
   "source": [
    "city_dic"
   ]
  },
  {
   "cell_type": "markdown",
   "metadata": {},
   "source": [
    "### 字典练习\n",
    "1.统计一句话中每个字的个数 \n",
    "\n"
   ]
  },
  {
   "cell_type": "code",
   "execution_count": 12,
   "metadata": {},
   "outputs": [],
   "source": [
    "sentence = \"贝吉塔喜欢布尔玛\""
   ]
  },
  {
   "cell_type": "code",
   "execution_count": 13,
   "metadata": {},
   "outputs": [
    {
     "data": {
      "text/plain": [
       "'贝'"
      ]
     },
     "execution_count": 13,
     "metadata": {},
     "output_type": "execute_result"
    }
   ],
   "source": [
    "sentence[0]"
   ]
  },
  {
   "cell_type": "code",
   "execution_count": 39,
   "metadata": {},
   "outputs": [],
   "source": [
    "c_dic = {}\n",
    "for c in sentence:\n",
    "    c_dic[c] = c_dic.get(c,0) + 1"
   ]
  },
  {
   "cell_type": "code",
   "execution_count": 40,
   "metadata": {},
   "outputs": [
    {
     "data": {
      "text/plain": [
       "{'贝': 1, '吉': 1, '塔': 1, '喜': 1, '欢': 1, '布': 1, '尔': 1, '玛': 1}"
      ]
     },
     "execution_count": 40,
     "metadata": {},
     "output_type": "execute_result"
    }
   ],
   "source": [
    "c_dic"
   ]
  },
  {
   "cell_type": "markdown",
   "metadata": {},
   "source": [
    "2. 一句话中单词的个数\n",
    "\n",
    "{I:1, love:1 , you :1}"
   ]
  },
  {
   "cell_type": "code",
   "execution_count": 43,
   "metadata": {},
   "outputs": [],
   "source": [
    "sentence_2 = \"I love you\""
   ]
  },
  {
   "cell_type": "code",
   "execution_count": 44,
   "metadata": {},
   "outputs": [
    {
     "name": "stdout",
     "output_type": "stream",
     "text": [
      "{'I': 1, 'love': 1, 'you': 1}\n"
     ]
    }
   ],
   "source": [
    "word_dic = {}\n",
    "for word in sentence_2.split():\n",
    "    word_dic[word] = word_dic.get(word,0) + 1\n",
    "print(word_dic)"
   ]
  },
  {
   "cell_type": "markdown",
   "metadata": {},
   "source": [
    "3. 一段话中单词的个数"
   ]
  },
  {
   "cell_type": "code",
   "execution_count": 50,
   "metadata": {},
   "outputs": [],
   "source": [
    "with open('Vegeta.txt') as f:\n",
    "    sentence_3 = f.read()"
   ]
  },
  {
   "cell_type": "code",
   "execution_count": 53,
   "metadata": {},
   "outputs": [
    {
     "data": {
      "text/plain": [
       "'Vegeta, also known as Prince Vegeta or alternatively styled as Vegeta IV is a fictional character in the Dragon Ball franchise created by Akira Toriyama. Vegeta first appears in chapter #204 Sayonara, Son Goku, published in Weekly Shōnen Jump magazine on November 7, 1988, seeking the wish-granting Dragon Balls to gain immortality.'"
      ]
     },
     "execution_count": 53,
     "metadata": {},
     "output_type": "execute_result"
    }
   ],
   "source": [
    "sentence_3"
   ]
  },
  {
   "cell_type": "code",
   "execution_count": 57,
   "metadata": {},
   "outputs": [
    {
     "name": "stdout",
     "output_type": "stream",
     "text": [
      "{'Vegeta': 4, 'also': 1, 'known': 1, 'Prince': 1, 'alternatively': 1, 'styled': 1, 'fictional': 1, 'character': 1, 'Dragon': 2, 'Ball': 1, 'franchise': 1, 'created': 1, 'Akira': 1, 'Toriyama': 1, 'first': 1, 'appears': 1, 'chapter': 1, '#204': 1, 'Sayonara': 1, 'Goku': 1, 'published': 1, 'Weekly': 1, 'Shōnen': 1, 'Jump': 1, 'magazine': 1, 'November': 1, '1988': 1, 'seeking': 1, 'wish-granting': 1, 'Balls': 1, 'gain': 1, 'immortality': 1}\n"
     ]
    }
   ],
   "source": [
    "word_dic = {}\n",
    "for word in sentence_3.split():\n",
    "    word = word.strip(',').strip('.')\n",
    "    if len(word) >=4 :\n",
    "        word_dic[word] = word_dic.get(word,0) + 1\n",
    "print(word_dic)"
   ]
  },
  {
   "cell_type": "code",
   "execution_count": null,
   "metadata": {},
   "outputs": [],
   "source": []
  }
 ],
 "metadata": {
  "kernelspec": {
   "display_name": "Python 3",
   "language": "python",
   "name": "python3"
  },
  "language_info": {
   "codemirror_mode": {
    "name": "ipython",
    "version": 3
   },
   "file_extension": ".py",
   "mimetype": "text/x-python",
   "name": "python",
   "nbconvert_exporter": "python",
   "pygments_lexer": "ipython3",
   "version": "3.7.4"
  }
 },
 "nbformat": 4,
 "nbformat_minor": 4
}
